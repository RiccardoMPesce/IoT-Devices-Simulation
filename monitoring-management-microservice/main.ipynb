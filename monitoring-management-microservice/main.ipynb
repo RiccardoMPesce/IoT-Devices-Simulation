{
 "cells": [
  {
   "cell_type": "code",
   "execution_count": 1,
   "metadata": {},
   "outputs": [],
   "source": [
    "with open(\".env\", \"r+\") as env_file:\n",
    "    mongo_params = dict(line.strip().split(\"=\") for line in env_file.readlines() if line.strip() != \"\") "
   ]
  },
  {
   "cell_type": "code",
   "execution_count": 2,
   "metadata": {},
   "outputs": [
    {
     "data": {
      "text/plain": [
       "{'PROJECT_NAME': 'monitoring-management-microservice',\n",
       " 'MONGO_HOST': '0.0.0.0',\n",
       " 'MONGO_PORT': '8081',\n",
       " 'MONGO_USER': 'admin',\n",
       " 'MONGO_PASSWORD': 'ds&bd2021-2022',\n",
       " 'MONGO_DB': 'conf'}"
      ]
     },
     "execution_count": 2,
     "metadata": {},
     "output_type": "execute_result"
    }
   ],
   "source": [
    "mongo_params"
   ]
  },
  {
   "cell_type": "code",
   "execution_count": 3,
   "metadata": {},
   "outputs": [],
   "source": [
    "import motor.motor_asyncio\n",
    "\n",
    "with open(\".env\", \"r+\") as env_file:\n",
    "    mongo_params = dict(line.strip().split(\"=\") for line in env_file.readlines() if line.strip() != \"\") \n",
    "\n",
    "mongo_host = mongo_params[\"MONGO_HOST\"]\n",
    "mongo_port = mongo_params[\"MONGO_PORT\"]\n",
    "mongo_details = f\"mongodb://{mongo_host}:{mongo_port}\"\n",
    "\n",
    "client = motor.motor_asyncio.AsyncIOMotorClient(mongo_details)\n",
    "\n",
    "database_device = client.device\n",
    "database_measure = client.measure"
   ]
  },
  {
   "cell_type": "code",
   "execution_count": null,
   "metadata": {},
   "outputs": [],
   "source": [
    "database_device."
   ]
  }
 ],
 "metadata": {
  "interpreter": {
   "hash": "59f3145cc67fcda0343c2852f1f97113a2e6e98841e887156424448e7071ad54"
  },
  "kernelspec": {
   "display_name": "Python 3.9.12 ('base')",
   "language": "python",
   "name": "python3"
  },
  "language_info": {
   "codemirror_mode": {
    "name": "ipython",
    "version": 3
   },
   "file_extension": ".py",
   "mimetype": "text/x-python",
   "name": "python",
   "nbconvert_exporter": "python",
   "pygments_lexer": "ipython3",
   "version": "3.9.12"
  },
  "orig_nbformat": 4
 },
 "nbformat": 4,
 "nbformat_minor": 2
}
