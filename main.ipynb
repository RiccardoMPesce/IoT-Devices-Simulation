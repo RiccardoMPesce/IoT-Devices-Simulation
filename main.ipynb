{
 "cells": [
  {
   "cell_type": "code",
   "execution_count": 1,
   "metadata": {},
   "outputs": [],
   "source": [
    "from device import Device"
   ]
  },
  {
   "cell_type": "code",
   "execution_count": 2,
   "metadata": {},
   "outputs": [],
   "source": [
    "d = Device(\"temp\", 0, 100)"
   ]
  },
  {
   "cell_type": "code",
   "execution_count": 3,
   "metadata": {},
   "outputs": [
    {
     "data": {
      "text/plain": [
       "{'id': 'd8f807fa-aaee-434a-9420-8c1046ef484e',\n",
       " 'measure': 'temp',\n",
       " 'value': 57.15,\n",
       " 'health': 'ok',\n",
       " 'timestamp': '2022-05-15 15:34:11.971712'}"
      ]
     },
     "execution_count": 3,
     "metadata": {},
     "output_type": "execute_result"
    }
   ],
   "source": [
    "d.simulate_recording()"
   ]
  },
  {
   "cell_type": "code",
   "execution_count": 4,
   "metadata": {},
   "outputs": [
    {
     "data": {
      "text/plain": [
       "[{'id': 'd8f807fa-aaee-434a-9420-8c1046ef484e',\n",
       "  'measure': 'temp',\n",
       "  'value': 57.15,\n",
       "  'health': 'ok',\n",
       "  'timestamp': '2022-05-15 15:34:11.971712'}]"
      ]
     },
     "execution_count": 4,
     "metadata": {},
     "output_type": "execute_result"
    }
   ],
   "source": [
    "d.recordings_queue"
   ]
  },
  {
   "cell_type": "code",
   "execution_count": 5,
   "metadata": {},
   "outputs": [],
   "source": [
    "for i in range(1000000):\n",
    "    d.simulate_recording()"
   ]
  },
  {
   "cell_type": "code",
   "execution_count": 6,
   "metadata": {},
   "outputs": [],
   "source": [
    "outliers = 0\n",
    "\n",
    "for entry in d.recordings_queue:\n",
    "    if entry[\"value\"] > 100 or entry[\"value\"] < 0:\n",
    "        outliers += 1"
   ]
  },
  {
   "cell_type": "code",
   "execution_count": 7,
   "metadata": {},
   "outputs": [
    {
     "data": {
      "text/plain": [
       "9.1999908000092e-05"
      ]
     },
     "execution_count": 7,
     "metadata": {},
     "output_type": "execute_result"
    }
   ],
   "source": [
    "outliers / d.recorded_measures"
   ]
  },
  {
   "cell_type": "code",
   "execution_count": 8,
   "metadata": {},
   "outputs": [
    {
     "data": {
      "text/plain": [
       "0.000224999775000225"
      ]
     },
     "execution_count": 8,
     "metadata": {},
     "output_type": "execute_result"
    }
   ],
   "source": [
    "mal = 0\n",
    "\n",
    "for entry in d.recordings_queue:\n",
    "    if entry[\"health\"] == \"error\": \n",
    "        mal += 1\n",
    "\n",
    "mal / d.recorded_measures"
   ]
  },
  {
   "cell_type": "code",
   "execution_count": 9,
   "metadata": {},
   "outputs": [],
   "source": [
    "d.establish_connection(\"broker.hivemq.com\", 1883)"
   ]
  },
  {
   "cell_type": "code",
   "execution_count": 10,
   "metadata": {},
   "outputs": [
    {
     "name": "stdout",
     "output_type": "stream",
     "text": [
      "Connected with result code 0\n",
      "Connected with result code 0\n",
      "Connected with result code 0\n",
      "Connected with result code 0\n",
      "Connected with result code 0\n",
      "Connected with result code 0\n"
     ]
    }
   ],
   "source": [
    "d.publish_recording(topic=\"riccardo/pesce/test/ciao\")"
   ]
  }
 ],
 "metadata": {
  "interpreter": {
   "hash": "59f3145cc67fcda0343c2852f1f97113a2e6e98841e887156424448e7071ad54"
  },
  "kernelspec": {
   "display_name": "Python 3.9.12 ('base')",
   "language": "python",
   "name": "python3"
  },
  "language_info": {
   "codemirror_mode": {
    "name": "ipython",
    "version": 3
   },
   "file_extension": ".py",
   "mimetype": "text/x-python",
   "name": "python",
   "nbconvert_exporter": "python",
   "pygments_lexer": "ipython3",
   "version": "3.9.12"
  },
  "orig_nbformat": 4
 },
 "nbformat": 4,
 "nbformat_minor": 2
}
